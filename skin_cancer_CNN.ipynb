{
 "cells": [
  {
   "cell_type": "markdown",
   "metadata": {},
   "source": [
    "# Skin Cancer Classification"
   ]
  },
  {
   "cell_type": "markdown",
   "metadata": {},
   "source": [
    "Link of dataset can be found <a href=\"https://www.kaggle.com/kmader/skin-cancer-mnist-ham10000\" >here</a>"
   ]
  },
  {
   "cell_type": "markdown",
   "metadata": {},
   "source": [
    "Step to integrate dataset to the notebook : \n",
    "1. generate kaggle.json from your profile\n",
    "1. download kaggle api command tools with `pip install kaggle`\n",
    "1. move kaggle.json to ~/user/.kaggle\n",
    "1. enter download command with `kaggle datasets download -d kmader/skin-cancer-mnist-ham10000`\n",
    "1. move the zip file into `dataset` directory\n",
    "1. extract the zip file\n",
    "1. install virtual env with command `pip install virtualenv`\n",
    "1. init virtual env with command `virtual venv -p python3`\n",
    "1. activate your venv with command `source ./venv/bin/activate`\n",
    "1. install all libraries with command `pip install -r requirements.txt`\n",
    "1. if you need another libraries, please don't forget to add those into requirements.txt with command `pip freeze > requirements.txt`"
   ]
  },
  {
   "cell_type": "code",
   "execution_count": 2,
   "metadata": {
    "execution": {
     "iopub.execute_input": "2021-05-20T03:44:55.791082Z",
     "iopub.status.busy": "2021-05-20T03:44:55.790539Z",
     "iopub.status.idle": "2021-05-20T03:45:03.741907Z",
     "shell.execute_reply": "2021-05-20T03:45:03.740866Z",
     "shell.execute_reply.started": "2021-05-20T03:44:55.791034Z"
    }
   },
   "outputs": [],
   "source": [
    "import tensorflow as tf\n",
    "import os\n",
    "import numpy as np \n",
    "import pandas as pd\n",
    "from keras.callbacks import ReduceLROnPlateau\n",
    "from imblearn.over_sampling import RandomOverSampler\n",
    "from keras.preprocessing.image import ImageDataGenerator\n",
    "from keras.utils import to_categorical\n",
    "from tensorflow import keras\n",
    "from sklearn.model_selection import train_test_split\n",
    "from sklearn.metrics import confusion_matrix, classification_report\n",
    "import pandas as pd\n",
    "import numpy as np\n",
    "import matplotlib.pyplot as plt\n",
    "import seaborn as sns"
   ]
  },
  {
   "cell_type": "code",
   "execution_count": 3,
   "metadata": {},
   "outputs": [
    {
     "name": "stdout",
     "output_type": "stream",
     "text": [
      "2.4.1\n"
     ]
    }
   ],
   "source": [
    "print(tf.__version__)"
   ]
  },
  {
   "cell_type": "markdown",
   "metadata": {},
   "source": [
    "# Exploratory Data \n",
    "\n",
    "This section is used to find an insight in dataset. To make better understand about data, using matplotlib and seaborn to visualize data with a chart. "
   ]
  },
  {
   "cell_type": "code",
   "execution_count": 4,
   "metadata": {},
   "outputs": [],
   "source": [
    "path_skin_cancer_csv = 'dataset/skin_cancer/HAM10000_metadata.csv'\n",
    "df_skin_cancer_metadata = pd.read_csv(path_skin_cancer_csv)"
   ]
  },
  {
   "cell_type": "code",
   "execution_count": 5,
   "metadata": {},
   "outputs": [
    {
     "data": {
      "text/html": [
       "<div>\n",
       "<style scoped>\n",
       "    .dataframe tbody tr th:only-of-type {\n",
       "        vertical-align: middle;\n",
       "    }\n",
       "\n",
       "    .dataframe tbody tr th {\n",
       "        vertical-align: top;\n",
       "    }\n",
       "\n",
       "    .dataframe thead th {\n",
       "        text-align: right;\n",
       "    }\n",
       "</style>\n",
       "<table border=\"1\" class=\"dataframe\">\n",
       "  <thead>\n",
       "    <tr style=\"text-align: right;\">\n",
       "      <th></th>\n",
       "      <th>lesion_id</th>\n",
       "      <th>image_id</th>\n",
       "      <th>dx</th>\n",
       "      <th>dx_type</th>\n",
       "      <th>age</th>\n",
       "      <th>sex</th>\n",
       "      <th>localization</th>\n",
       "    </tr>\n",
       "  </thead>\n",
       "  <tbody>\n",
       "    <tr>\n",
       "      <th>7626</th>\n",
       "      <td>HAM_0005190</td>\n",
       "      <td>ISIC_0033311</td>\n",
       "      <td>nv</td>\n",
       "      <td>histo</td>\n",
       "      <td>40.0</td>\n",
       "      <td>female</td>\n",
       "      <td>back</td>\n",
       "    </tr>\n",
       "    <tr>\n",
       "      <th>9850</th>\n",
       "      <td>HAM_0000954</td>\n",
       "      <td>ISIC_0026100</td>\n",
       "      <td>akiec</td>\n",
       "      <td>histo</td>\n",
       "      <td>70.0</td>\n",
       "      <td>male</td>\n",
       "      <td>lower extremity</td>\n",
       "    </tr>\n",
       "    <tr>\n",
       "      <th>8234</th>\n",
       "      <td>HAM_0001142</td>\n",
       "      <td>ISIC_0024503</td>\n",
       "      <td>nv</td>\n",
       "      <td>histo</td>\n",
       "      <td>50.0</td>\n",
       "      <td>male</td>\n",
       "      <td>foot</td>\n",
       "    </tr>\n",
       "    <tr>\n",
       "      <th>1353</th>\n",
       "      <td>HAM_0006522</td>\n",
       "      <td>ISIC_0026369</td>\n",
       "      <td>mel</td>\n",
       "      <td>histo</td>\n",
       "      <td>30.0</td>\n",
       "      <td>female</td>\n",
       "      <td>lower extremity</td>\n",
       "    </tr>\n",
       "    <tr>\n",
       "      <th>128</th>\n",
       "      <td>HAM_0006085</td>\n",
       "      <td>ISIC_0032949</td>\n",
       "      <td>bkl</td>\n",
       "      <td>histo</td>\n",
       "      <td>85.0</td>\n",
       "      <td>female</td>\n",
       "      <td>face</td>\n",
       "    </tr>\n",
       "  </tbody>\n",
       "</table>\n",
       "</div>"
      ],
      "text/plain": [
       "        lesion_id      image_id     dx dx_type   age     sex     localization\n",
       "7626  HAM_0005190  ISIC_0033311     nv   histo  40.0  female             back\n",
       "9850  HAM_0000954  ISIC_0026100  akiec   histo  70.0    male  lower extremity\n",
       "8234  HAM_0001142  ISIC_0024503     nv   histo  50.0    male             foot\n",
       "1353  HAM_0006522  ISIC_0026369    mel   histo  30.0  female  lower extremity\n",
       "128   HAM_0006085  ISIC_0032949    bkl   histo  85.0  female             face"
      ]
     },
     "execution_count": 5,
     "metadata": {},
     "output_type": "execute_result"
    }
   ],
   "source": [
    "df_skin_cancer_metadata.sample(5)"
   ]
  },
  {
   "cell_type": "code",
   "execution_count": 6,
   "metadata": {},
   "outputs": [
    {
     "name": "stdout",
     "output_type": "stream",
     "text": [
      "<class 'pandas.core.frame.DataFrame'>\n",
      "RangeIndex: 10015 entries, 0 to 10014\n",
      "Data columns (total 7 columns):\n",
      " #   Column        Non-Null Count  Dtype  \n",
      "---  ------        --------------  -----  \n",
      " 0   lesion_id     10015 non-null  object \n",
      " 1   image_id      10015 non-null  object \n",
      " 2   dx            10015 non-null  object \n",
      " 3   dx_type       10015 non-null  object \n",
      " 4   age           9958 non-null   float64\n",
      " 5   sex           10015 non-null  object \n",
      " 6   localization  10015 non-null  object \n",
      "dtypes: float64(1), object(6)\n",
      "memory usage: 547.8+ KB\n"
     ]
    }
   ],
   "source": [
    "df_skin_cancer_metadata.info()"
   ]
  },
  {
   "cell_type": "code",
   "execution_count": 7,
   "metadata": {},
   "outputs": [
    {
     "data": {
      "text/plain": [
       "Text(0.5, 1.0, 'Frequency Distribution of Classes')"
      ]
     },
     "execution_count": 7,
     "metadata": {},
     "output_type": "execute_result"
    },
    {
     "data": {
      "image/png": "[encoded data removed]",
      "text/plain": [
       "<Figure size 432x288 with 1 Axes>"
      ]
     },
     "metadata": {
      "needs_background": "light"
     },
     "output_type": "display_data"
    }
   ],
   "source": [
    "sns.countplot(x='dx', data=df_skin_cancer_metadata)\n",
    "plt.xlabel('Disease', size=12)\n",
    "plt.ylabel('Frequency', size=12)\n",
    "plt.title('Frequency Distribution of Classes', size=16)"
   ]
  },
  {
   "cell_type": "code",
   "execution_count": 8,
   "metadata": {},
   "outputs": [
    {
     "data": {
      "text/plain": [
       "Text(0.5, 1.0, 'Gender of Patient')"
      ]
     },
     "execution_count": 8,
     "metadata": {},
     "output_type": "execute_result"
    },
    {
     "data": {
      "image/png": "[encoded data removed]",
      "text/plain": [
       "<Figure size 720x720 with 1 Axes>"
      ]
     },
     "metadata": {},
     "output_type": "display_data"
    }
   ],
   "source": [
    "pie_chart_color = ['#66b3ff', '#ff9999', 'green']\n",
    "bar, ax = plt.subplots(figsize=(10, 10))\n",
    "plt.pie(df_skin_cancer_metadata['sex'].value_counts(),\n",
    "        colors=pie_chart_color,\n",
    "        labels=df_skin_cancer_metadata['sex'].value_counts().index,\n",
    "        autopct=\"%.1f%%\")\n",
    "plt.title('Gender of Patient', size=16)"
   ]
  },
  {
   "cell_type": "code",
   "execution_count": 9,
   "metadata": {},
   "outputs": [
    {
     "data": {
      "text/plain": [
       "Text(0.5, 1.0, 'Histogram of Age of Patients')"
      ]
     },
     "execution_count": 9,
     "metadata": {},
     "output_type": "execute_result"
    },
    {
     "data": {
      "image/png": "[encoded data removed]",
      "text/plain": [
       "<Figure size 792x792 with 1 Axes>"
      ]
     },
     "metadata": {
      "needs_background": "light"
     },
     "output_type": "display_data"
    }
   ],
   "source": [
    "bar, ax = plt.subplots(figsize=(11, 11))\n",
    "sns.histplot(df_skin_cancer_metadata['age'], kde=True)\n",
    "plt.title('Histogram of Age of Patients', size=15)"
   ]
  },
  {
   "cell_type": "markdown",
   "metadata": {},
   "source": [
    "# **Loading the Dataset**"
   ]
  },
  {
   "cell_type": "code",
   "execution_count": 10,
   "metadata": {
    "execution": {
     "iopub.execute_input": "2021-05-20T03:45:03.910597Z",
     "iopub.status.busy": "2021-05-20T03:45:03.91005Z",
     "iopub.status.idle": "2021-05-20T03:45:08.936334Z",
     "shell.execute_reply": "2021-05-20T03:45:08.935068Z",
     "shell.execute_reply.started": "2021-05-20T03:45:03.910562Z"
    }
   },
   "outputs": [],
   "source": [
    "FilePath = \"dataset/skin_cancer/hmnist_28_28_RGB.csv\"\n",
    "dataSet = pd.read_csv(FilePath)"
   ]
  },
  {
   "cell_type": "code",
   "execution_count": 11,
   "metadata": {},
   "outputs": [
    {
     "data": {
      "text/html": [
       "<div>\n",
       "<style scoped>\n",
       "    .dataframe tbody tr th:only-of-type {\n",
       "        vertical-align: middle;\n",
       "    }\n",
       "\n",
       "    .dataframe tbody tr th {\n",
       "        vertical-align: top;\n",
       "    }\n",
       "\n",
       "    .dataframe thead th {\n",
       "        text-align: right;\n",
       "    }\n",
       "</style>\n",
       "<table border=\"1\" class=\"dataframe\">\n",
       "  <thead>\n",
       "    <tr style=\"text-align: right;\">\n",
       "      <th></th>\n",
       "      <th>pixel0000</th>\n",
       "      <th>pixel0001</th>\n",
       "      <th>pixel0002</th>\n",
       "      <th>pixel0003</th>\n",
       "      <th>pixel0004</th>\n",
       "      <th>pixel0005</th>\n",
       "      <th>pixel0006</th>\n",
       "      <th>pixel0007</th>\n",
       "      <th>pixel0008</th>\n",
       "      <th>pixel0009</th>\n",
       "      <th>...</th>\n",
       "      <th>pixel2343</th>\n",
       "      <th>pixel2344</th>\n",
       "      <th>pixel2345</th>\n",
       "      <th>pixel2346</th>\n",
       "      <th>pixel2347</th>\n",
       "      <th>pixel2348</th>\n",
       "      <th>pixel2349</th>\n",
       "      <th>pixel2350</th>\n",
       "      <th>pixel2351</th>\n",
       "      <th>label</th>\n",
       "    </tr>\n",
       "  </thead>\n",
       "  <tbody>\n",
       "    <tr>\n",
       "      <th>3774</th>\n",
       "      <td>216</td>\n",
       "      <td>139</td>\n",
       "      <td>147</td>\n",
       "      <td>220</td>\n",
       "      <td>145</td>\n",
       "      <td>153</td>\n",
       "      <td>220</td>\n",
       "      <td>144</td>\n",
       "      <td>155</td>\n",
       "      <td>221</td>\n",
       "      <td>...</td>\n",
       "      <td>204</td>\n",
       "      <td>130</td>\n",
       "      <td>137</td>\n",
       "      <td>202</td>\n",
       "      <td>129</td>\n",
       "      <td>137</td>\n",
       "      <td>199</td>\n",
       "      <td>127</td>\n",
       "      <td>133</td>\n",
       "      <td>4</td>\n",
       "    </tr>\n",
       "    <tr>\n",
       "      <th>2325</th>\n",
       "      <td>142</td>\n",
       "      <td>127</td>\n",
       "      <td>116</td>\n",
       "      <td>162</td>\n",
       "      <td>139</td>\n",
       "      <td>135</td>\n",
       "      <td>170</td>\n",
       "      <td>146</td>\n",
       "      <td>149</td>\n",
       "      <td>175</td>\n",
       "      <td>...</td>\n",
       "      <td>10</td>\n",
       "      <td>7</td>\n",
       "      <td>12</td>\n",
       "      <td>13</td>\n",
       "      <td>9</td>\n",
       "      <td>14</td>\n",
       "      <td>11</td>\n",
       "      <td>8</td>\n",
       "      <td>13</td>\n",
       "      <td>5</td>\n",
       "    </tr>\n",
       "    <tr>\n",
       "      <th>1284</th>\n",
       "      <td>248</td>\n",
       "      <td>229</td>\n",
       "      <td>248</td>\n",
       "      <td>247</td>\n",
       "      <td>229</td>\n",
       "      <td>248</td>\n",
       "      <td>248</td>\n",
       "      <td>229</td>\n",
       "      <td>248</td>\n",
       "      <td>249</td>\n",
       "      <td>...</td>\n",
       "      <td>249</td>\n",
       "      <td>224</td>\n",
       "      <td>245</td>\n",
       "      <td>251</td>\n",
       "      <td>226</td>\n",
       "      <td>246</td>\n",
       "      <td>251</td>\n",
       "      <td>224</td>\n",
       "      <td>243</td>\n",
       "      <td>6</td>\n",
       "    </tr>\n",
       "    <tr>\n",
       "      <th>2422</th>\n",
       "      <td>214</td>\n",
       "      <td>151</td>\n",
       "      <td>165</td>\n",
       "      <td>216</td>\n",
       "      <td>152</td>\n",
       "      <td>166</td>\n",
       "      <td>217</td>\n",
       "      <td>149</td>\n",
       "      <td>162</td>\n",
       "      <td>216</td>\n",
       "      <td>...</td>\n",
       "      <td>201</td>\n",
       "      <td>138</td>\n",
       "      <td>153</td>\n",
       "      <td>197</td>\n",
       "      <td>133</td>\n",
       "      <td>149</td>\n",
       "      <td>195</td>\n",
       "      <td>131</td>\n",
       "      <td>147</td>\n",
       "      <td>5</td>\n",
       "    </tr>\n",
       "    <tr>\n",
       "      <th>5215</th>\n",
       "      <td>228</td>\n",
       "      <td>141</td>\n",
       "      <td>140</td>\n",
       "      <td>229</td>\n",
       "      <td>140</td>\n",
       "      <td>139</td>\n",
       "      <td>229</td>\n",
       "      <td>141</td>\n",
       "      <td>140</td>\n",
       "      <td>230</td>\n",
       "      <td>...</td>\n",
       "      <td>212</td>\n",
       "      <td>136</td>\n",
       "      <td>127</td>\n",
       "      <td>210</td>\n",
       "      <td>134</td>\n",
       "      <td>123</td>\n",
       "      <td>212</td>\n",
       "      <td>136</td>\n",
       "      <td>124</td>\n",
       "      <td>4</td>\n",
       "    </tr>\n",
       "  </tbody>\n",
       "</table>\n",
       "<p>5 rows × 2353 columns</p>\n",
       "</div>"
      ],
      "text/plain": [
       "      pixel0000  pixel0001  pixel0002  pixel0003  pixel0004  pixel0005  \\\n",
       "3774        216        139        147        220        145        153   \n",
       "2325        142        127        116        162        139        135   \n",
       "1284        248        229        248        247        229        248   \n",
       "2422        214        151        165        216        152        166   \n",
       "5215        228        141        140        229        140        139   \n",
       "\n",
       "      pixel0006  pixel0007  pixel0008  pixel0009  ...  pixel2343  pixel2344  \\\n",
       "3774        220        144        155        221  ...        204        130   \n",
       "2325        170        146        149        175  ...         10          7   \n",
       "1284        248        229        248        249  ...        249        224   \n",
       "2422        217        149        162        216  ...        201        138   \n",
       "5215        229        141        140        230  ...        212        136   \n",
       "\n",
       "      pixel2345  pixel2346  pixel2347  pixel2348  pixel2349  pixel2350  \\\n",
       "3774        137        202        129        137        199        127   \n",
       "2325         12         13          9         14         11          8   \n",
       "1284        245        251        226        246        251        224   \n",
       "2422        153        197        133        149        195        131   \n",
       "5215        127        210        134        123        212        136   \n",
       "\n",
       "      pixel2351  label  \n",
       "3774        133      4  \n",
       "2325         13      5  \n",
       "1284        243      6  \n",
       "2422        147      5  \n",
       "5215        124      4  \n",
       "\n",
       "[5 rows x 2353 columns]"
      ]
     },
     "execution_count": 11,
     "metadata": {},
     "output_type": "execute_result"
    }
   ],
   "source": [
    "dataSet.sample(5)"
   ]
  },
  {
   "cell_type": "code",
   "execution_count": 12,
   "metadata": {
    "execution": {
     "iopub.execute_input": "2021-05-20T03:45:10.311191Z",
     "iopub.status.busy": "2021-05-20T03:45:10.310813Z",
     "iopub.status.idle": "2021-05-20T03:45:10.397137Z",
     "shell.execute_reply": "2021-05-20T03:45:10.396189Z",
     "shell.execute_reply.started": "2021-05-20T03:45:10.311144Z"
    }
   },
   "outputs": [],
   "source": [
    "_label = dataSet[\"label\"]\n",
    "_data = dataSet.drop(columns=[\"label\"])"
   ]
  },
  {
   "cell_type": "markdown",
   "metadata": {},
   "source": [
    "**Count labels**"
   ]
  },
  {
   "cell_type": "code",
   "execution_count": 13,
   "metadata": {
    "execution": {
     "iopub.execute_input": "2021-05-20T03:45:13.405539Z",
     "iopub.status.busy": "2021-05-20T03:45:13.405127Z",
     "iopub.status.idle": "2021-05-20T03:45:13.662711Z",
     "shell.execute_reply": "2021-05-20T03:45:13.66137Z",
     "shell.execute_reply.started": "2021-05-20T03:45:13.405504Z"
    }
   },
   "outputs": [
    {
     "name": "stderr",
     "output_type": "stream",
     "text": [
      "/home/alshum/Documents/project/ml_api/venv/lib/python3.8/site-packages/seaborn/_decorators.py:36: FutureWarning: Pass the following variable as a keyword arg: x. From version 0.12, the only valid positional argument will be `data`, and passing other arguments without an explicit keyword will result in an error or misinterpretation.\n",
      "  warnings.warn(\n"
     ]
    },
    {
     "data": {
      "text/plain": [
       "<AxesSubplot:xlabel='label', ylabel='count'>"
      ]
     },
     "execution_count": 13,
     "metadata": {},
     "output_type": "execute_result"
    },
    {
     "data": {
      "image/png": "[encoded data removed]",
      "text/plain": [
       "<Figure size 720x720 with 1 Axes>"
      ]
     },
     "metadata": {
      "needs_background": "light"
     },
     "output_type": "display_data"
    }
   ],
   "source": [
    "plt.figure(figsize=(10, 10))\n",
    "sns.set_style(\"darkgrid\")\n",
    "sns.countplot(_label)"
   ]
  },
  {
   "cell_type": "markdown",
   "metadata": {},
   "source": [
    "**Balancing Data**"
   ]
  },
  {
   "cell_type": "code",
   "execution_count": 14,
   "metadata": {
    "execution": {
     "iopub.execute_input": "2021-05-20T03:45:16.091578Z",
     "iopub.status.busy": "2021-05-20T03:45:16.091209Z",
     "iopub.status.idle": "2021-05-20T03:45:19.430073Z",
     "shell.execute_reply": "2021-05-20T03:45:19.428963Z",
     "shell.execute_reply.started": "2021-05-20T03:45:16.091546Z"
    }
   },
   "outputs": [],
   "source": [
    "oversample = RandomOverSampler()\n",
    "_data, _label = oversample.fit_resample(_data, _label)"
   ]
  },
  {
   "cell_type": "code",
   "execution_count": 15,
   "metadata": {},
   "outputs": [
    {
     "name": "stdout",
     "output_type": "stream",
     "text": [
      "Shape of Data : (46935, 28, 28, 3)\n"
     ]
    }
   ],
   "source": [
    "data = np.array(_data).reshape(-1, 28, 28, 3)\n",
    "print('Shape of Data :', data.shape)"
   ]
  },
  {
   "cell_type": "code",
   "execution_count": 16,
   "metadata": {
    "execution": {
     "iopub.execute_input": "2021-05-20T03:45:19.4319Z",
     "iopub.status.busy": "2021-05-20T03:45:19.431475Z",
     "iopub.status.idle": "2021-05-20T03:45:19.636137Z",
     "shell.execute_reply": "2021-05-20T03:45:19.635322Z",
     "shell.execute_reply.started": "2021-05-20T03:45:19.431854Z"
    }
   },
   "outputs": [
    {
     "name": "stderr",
     "output_type": "stream",
     "text": [
      "/home/alshum/Documents/project/ml_api/venv/lib/python3.8/site-packages/seaborn/_decorators.py:36: FutureWarning: Pass the following variable as a keyword arg: x. From version 0.12, the only valid positional argument will be `data`, and passing other arguments without an explicit keyword will result in an error or misinterpretation.\n",
      "  warnings.warn(\n"
     ]
    },
    {
     "data": {
      "text/plain": [
       "<AxesSubplot:xlabel='label', ylabel='count'>"
      ]
     },
     "execution_count": 16,
     "metadata": {},
     "output_type": "execute_result"
    },
    {
     "data": {
      "image/png": "[encoded data removed]",
      "text/plain": [
       "<Figure size 720x720 with 1 Axes>"
      ]
     },
     "metadata": {},
     "output_type": "display_data"
    }
   ],
   "source": [
    "plt.figure(figsize=(10, 10))\n",
    "sns.set_style(\"darkgrid\")\n",
    "sns.countplot(_label)"
   ]
  },
  {
   "cell_type": "code",
   "execution_count": 17,
   "metadata": {
    "execution": {
     "iopub.execute_input": "2021-05-20T03:45:22.261676Z",
     "iopub.status.busy": "2021-05-20T03:45:22.261241Z",
     "iopub.status.idle": "2021-05-20T03:45:22.269001Z",
     "shell.execute_reply": "2021-05-20T03:45:22.267921Z",
     "shell.execute_reply.started": "2021-05-20T03:45:22.26164Z"
    }
   },
   "outputs": [
    {
     "data": {
      "text/plain": [
       "array([2, 2, 2, ..., 6, 6, 6])"
      ]
     },
     "execution_count": 17,
     "metadata": {},
     "output_type": "execute_result"
    }
   ],
   "source": [
    "label = np.array(_label)\n",
    "label"
   ]
  },
  {
   "cell_type": "code",
   "execution_count": 18,
   "metadata": {
    "execution": {
     "iopub.execute_input": "2021-05-20T03:45:22.607416Z",
     "iopub.status.busy": "2021-05-20T03:45:22.60702Z",
     "iopub.status.idle": "2021-05-20T03:45:22.612943Z",
     "shell.execute_reply": "2021-05-20T03:45:22.611664Z",
     "shell.execute_reply.started": "2021-05-20T03:45:22.607381Z"
    }
   },
   "outputs": [],
   "source": [
    "classes = {\n",
    "    4: ('nv', ' melanocytic nevi'),\n",
    "    6: ('mel', 'melanoma'),\n",
    "    2: ('bkl', 'benign keratosis-like lesions'),\n",
    "    1: ('bcc', ' basal cell carcinoma'),\n",
    "    5: ('vasc', ' pyogenic granulomas and hemorrhage'),\n",
    "    0: ('akiec', 'Actinic keratoses and intraepithelial carcinomae'),\n",
    "    3: ('df', 'dermatofibroma')\n",
    "}"
   ]
  },
  {
   "cell_type": "markdown",
   "metadata": {},
   "source": [
    "**SPLIT DATA INTO TRAIN AND TEST DATA**"
   ]
  },
  {
   "cell_type": "code",
   "execution_count": 13,
   "metadata": {
    "execution": {
     "iopub.execute_input": "2021-05-20T03:45:35.673446Z",
     "iopub.status.busy": "2021-05-20T03:45:35.673071Z",
     "iopub.status.idle": "2021-05-20T03:45:37.034094Z",
     "shell.execute_reply": "2021-05-20T03:45:37.033071Z",
     "shell.execute_reply.started": "2021-05-20T03:45:35.673416Z"
    }
   },
   "outputs": [],
   "source": [
    "X_train, X_test, y_train, y_test = train_test_split(data, label, test_size=0.25, random_state=49)"
   ]
  },
  {
   "cell_type": "code",
   "execution_count": 14,
   "metadata": {
    "execution": {
     "iopub.execute_input": "2021-05-20T03:45:37.036486Z",
     "iopub.status.busy": "2021-05-20T03:45:37.036011Z",
     "iopub.status.idle": "2021-05-20T03:45:37.042143Z",
     "shell.execute_reply": "2021-05-20T03:45:37.040948Z",
     "shell.execute_reply.started": "2021-05-20T03:45:37.036439Z"
    }
   },
   "outputs": [
    {
     "name": "stdout",
     "output_type": "stream",
     "text": [
      "(35201, 28, 28, 3)\n",
      "(11734, 28, 28, 3)\n",
      "(35201,)\n",
      "(11734,)\n"
     ]
    }
   ],
   "source": [
    "print(X_train.shape)\n",
    "print(X_test.shape)\n",
    "print(y_train.shape)\n",
    "print(y_test.shape)"
   ]
  },
  {
   "cell_type": "code",
   "execution_count": 15,
   "metadata": {},
   "outputs": [
    {
     "data": {
      "image/png": "[encoded data removed]",
      "text/plain": [
       "<Figure size 720x720 with 10 Axes>"
      ]
     },
     "metadata": {},
     "output_type": "display_data"
    }
   ],
   "source": [
    "f , ax = plt.subplots(2,5)\n",
    "f.set_size_inches(10, 10)\n",
    "k = 0 \n",
    "for i in range(2):\n",
    "    for j in range(5):\n",
    "        ax[i,j].imshow(X_train[k].reshape(28,28,3))\n",
    "        k = k + 1\n",
    "    plt.tight_layout()"
   ]
  },
  {
   "cell_type": "markdown",
   "metadata": {},
   "source": [
    "**Convert lables into One-hot encoding**"
   ]
  },
  {
   "cell_type": "code",
   "execution_count": 16,
   "metadata": {
    "execution": {
     "iopub.execute_input": "2021-05-20T03:46:07.748646Z",
     "iopub.status.busy": "2021-05-20T03:46:07.748045Z",
     "iopub.status.idle": "2021-05-20T03:46:07.753405Z",
     "shell.execute_reply": "2021-05-20T03:46:07.752704Z",
     "shell.execute_reply.started": "2021-05-20T03:46:07.748592Z"
    }
   },
   "outputs": [],
   "source": [
    "y_train = to_categorical(y_train)\n",
    "y_test = to_categorical(y_test)"
   ]
  },
  {
   "cell_type": "code",
   "execution_count": 17,
   "metadata": {
    "execution": {
     "iopub.execute_input": "2021-05-20T03:46:09.715367Z",
     "iopub.status.busy": "2021-05-20T03:46:09.714826Z",
     "iopub.status.idle": "2021-05-20T03:46:09.720884Z",
     "shell.execute_reply": "2021-05-20T03:46:09.720057Z",
     "shell.execute_reply.started": "2021-05-20T03:46:09.715308Z"
    }
   },
   "outputs": [
    {
     "name": "stdout",
     "output_type": "stream",
     "text": [
      "[[0. 0. 0. ... 0. 0. 0.]\n",
      " [1. 0. 0. ... 0. 0. 0.]\n",
      " [0. 1. 0. ... 0. 0. 0.]\n",
      " ...\n",
      " [1. 0. 0. ... 0. 0. 0.]\n",
      " [0. 0. 0. ... 0. 0. 0.]\n",
      " [0. 0. 1. ... 0. 0. 0.]]\n"
     ]
    }
   ],
   "source": [
    "print(y_train)"
   ]
  },
  {
   "cell_type": "markdown",
   "metadata": {},
   "source": [
    "**Data Augmentation to avoid Overfitting**"
   ]
  },
  {
   "cell_type": "code",
   "execution_count": 18,
   "metadata": {
    "execution": {
     "iopub.execute_input": "2021-05-20T03:46:16.591471Z",
     "iopub.status.busy": "2021-05-20T03:46:16.590909Z",
     "iopub.status.idle": "2021-05-20T03:46:16.596103Z",
     "shell.execute_reply": "2021-05-20T03:46:16.595414Z",
     "shell.execute_reply.started": "2021-05-20T03:46:16.591403Z"
    }
   },
   "outputs": [],
   "source": [
    "datagen = ImageDataGenerator(rescale=(1. / 255),\n",
    "                             rotation_range=10,\n",
    "                             zoom_range=0.1,\n",
    "                             width_shift_range=0.1,\n",
    "                             height_shift_range=0.1)"
   ]
  },
  {
   "cell_type": "code",
   "execution_count": 19,
   "metadata": {},
   "outputs": [],
   "source": [
    "testgen = ImageDataGenerator(rescale=(1. / 255))"
   ]
  },
  {
   "cell_type": "markdown",
   "metadata": {},
   "source": [
    "**Learing Rate Decay**"
   ]
  },
  {
   "cell_type": "code",
   "execution_count": 20,
   "metadata": {
    "execution": {
     "iopub.execute_input": "2021-05-20T03:46:27.094489Z",
     "iopub.status.busy": "2021-05-20T03:46:27.093953Z",
     "iopub.status.idle": "2021-05-20T03:46:27.098039Z",
     "shell.execute_reply": "2021-05-20T03:46:27.09735Z",
     "shell.execute_reply.started": "2021-05-20T03:46:27.094456Z"
    }
   },
   "outputs": [],
   "source": [
    "learning_rate_reduction = ReduceLROnPlateau(monitor='val_accuracy',\n",
    "                                            patience=2,\n",
    "                                            verbose=1,\n",
    "                                            factor=0.5,\n",
    "                                            min_lr=0.00001)"
   ]
  },
  {
   "cell_type": "markdown",
   "metadata": {},
   "source": [
    "# **Build Our Model**"
   ]
  },
  {
   "cell_type": "code",
   "execution_count": 21,
   "metadata": {},
   "outputs": [],
   "source": [
    "model = keras.models.Sequential([\n",
    "    keras.layers.Input(shape = [28,28,3]),\n",
    "    keras.layers.Conv2D(32 , (3,3) , activation='relu',padding='same' , kernel_initializer='he_normal'),\n",
    "    keras.layers.MaxPooling2D(),\n",
    "    keras.layers.Conv2D(64 , (3,3) , activation='relu',padding='same' , kernel_initializer='he_normal'),\n",
    "    keras.layers.Conv2D(64 , (3,3) , activation='relu',padding='same' , kernel_initializer='he_normal'),\n",
    "    keras.layers.MaxPooling2D(),\n",
    "    keras.layers.Conv2D(128 , (3,3) , activation='relu',padding='same' , kernel_initializer='he_normal'),\n",
    "    keras.layers.Conv2D(128 , (3,3) , activation='relu',padding='same' , kernel_initializer='he_normal'),\n",
    "    keras.layers.MaxPooling2D(),\n",
    "    keras.layers.Conv2D(256 , (3,3) , activation='relu' ,padding='same', kernel_initializer='he_normal'),\n",
    "    keras.layers.Conv2D(256 , (3,3) , activation='relu' ,padding='same', kernel_initializer='he_normal'),\n",
    "    keras.layers.MaxPooling2D(),\n",
    "    keras.layers.Flatten(),\n",
    "    keras.layers.Dropout(rate = 0.2),\n",
    "    keras.layers.Dense(units = 256 , activation = 'relu' , kernel_initializer = 'he_normal'),\n",
    "    keras.layers.BatchNormalization(),\n",
    "    keras.layers.Dense(units = 128 , activation = 'relu' , kernel_initializer = 'he_normal'),\n",
    "    keras.layers.BatchNormalization(),\n",
    "    keras.layers.Dense(units = 64 , activation = 'relu' , kernel_initializer = 'he_normal'),\n",
    "    keras.layers.BatchNormalization(),\n",
    "    keras.layers.Dense(units = 32 , activation = 'relu' , kernel_initializer = 'he_normal',\n",
    "                       kernel_regularizer=keras.regularizers.L1L2()),\n",
    "    keras.layers.BatchNormalization(),\n",
    "    keras.layers.Dense(units = 7 , activation='softmax',\n",
    "                       kernel_initializer=\"glorot_uniform\" , name = 'classifier')\n",
    "])"
   ]
  },
  {
   "cell_type": "code",
   "execution_count": 22,
   "metadata": {},
   "outputs": [
    {
     "name": "stdout",
     "output_type": "stream",
     "text": [
      "Model: \"sequential\"\n",
      "_________________________________________________________________\n",
      "Layer (type)                 Output Shape              Param #   \n",
      "=================================================================\n",
      "conv2d (Conv2D)              (None, 28, 28, 32)        896       \n",
      "_________________________________________________________________\n",
      "max_pooling2d (MaxPooling2D) (None, 14, 14, 32)        0         \n",
      "_________________________________________________________________\n",
      "conv2d_1 (Conv2D)            (None, 14, 14, 64)        18496     \n",
      "_________________________________________________________________\n",
      "conv2d_2 (Conv2D)            (None, 14, 14, 64)        36928     \n",
      "_________________________________________________________________\n",
      "max_pooling2d_1 (MaxPooling2 (None, 7, 7, 64)          0         \n",
      "_________________________________________________________________\n",
      "conv2d_3 (Conv2D)            (None, 7, 7, 128)         73856     \n",
      "_________________________________________________________________\n",
      "conv2d_4 (Conv2D)            (None, 7, 7, 128)         147584    \n",
      "_________________________________________________________________\n",
      "max_pooling2d_2 (MaxPooling2 (None, 3, 3, 128)         0         \n",
      "_________________________________________________________________\n",
      "conv2d_5 (Conv2D)            (None, 3, 3, 256)         295168    \n",
      "_________________________________________________________________\n",
      "conv2d_6 (Conv2D)            (None, 3, 3, 256)         590080    \n",
      "_________________________________________________________________\n",
      "max_pooling2d_3 (MaxPooling2 (None, 1, 1, 256)         0         \n",
      "_________________________________________________________________\n",
      "flatten (Flatten)            (None, 256)               0         \n",
      "_________________________________________________________________\n",
      "dropout (Dropout)            (None, 256)               0         \n",
      "_________________________________________________________________\n",
      "dense (Dense)                (None, 256)               65792     \n",
      "_________________________________________________________________\n",
      "batch_normalization (BatchNo (None, 256)               1024      \n",
      "_________________________________________________________________\n",
      "dense_1 (Dense)              (None, 128)               32896     \n",
      "_________________________________________________________________\n",
      "batch_normalization_1 (Batch (None, 128)               512       \n",
      "_________________________________________________________________\n",
      "dense_2 (Dense)              (None, 64)                8256      \n",
      "_________________________________________________________________\n",
      "batch_normalization_2 (Batch (None, 64)                256       \n",
      "_________________________________________________________________\n",
      "dense_3 (Dense)              (None, 32)                2080      \n",
      "_________________________________________________________________\n",
      "batch_normalization_3 (Batch (None, 32)                128       \n",
      "_________________________________________________________________\n",
      "classifier (Dense)           (None, 7)                 231       \n",
      "=================================================================\n",
      "Total params: 1,274,183\n",
      "Trainable params: 1,273,223\n",
      "Non-trainable params: 960\n",
      "_________________________________________________________________\n"
     ]
    }
   ],
   "source": [
    "model.summary()"
   ]
  },
  {
   "cell_type": "code",
   "execution_count": 23,
   "metadata": {},
   "outputs": [],
   "source": [
    "model.compile(optimizer='adam' , loss = keras.losses.CategoricalCrossentropy() ,metrics = ['accuracy'])"
   ]
  },
  {
   "cell_type": "markdown",
   "metadata": {},
   "source": [
    "**Training step**"
   ]
  },
  {
   "cell_type": "code",
   "execution_count": 24,
   "metadata": {
    "execution": {
     "iopub.execute_input": "2021-05-20T03:46:55.339778Z",
     "iopub.status.busy": "2021-05-20T03:46:55.339392Z",
     "iopub.status.idle": "2021-05-20T04:40:15.80492Z",
     "shell.execute_reply": "2021-05-20T04:40:15.803738Z",
     "shell.execute_reply.started": "2021-05-20T03:46:55.339744Z"
    }
   },
   "outputs": [
    {
     "name": "stdout",
     "output_type": "stream",
     "text": [
      "Epoch 1/25\n",
      "276/276 [==============================] - 71s 255ms/step - loss: 2.1406 - accuracy: 0.1828 - val_loss: 2.3014 - val_accuracy: 0.1687\n",
      "Epoch 2/25\n",
      "276/276 [==============================] - 70s 253ms/step - loss: 1.6662 - accuracy: 0.3071 - val_loss: 1.7878 - val_accuracy: 0.3417\n",
      "Epoch 3/25\n",
      "276/276 [==============================] - 70s 252ms/step - loss: 1.3033 - accuracy: 0.4880 - val_loss: 1.1622 - val_accuracy: 0.5371\n",
      "Epoch 4/25\n",
      "276/276 [==============================] - 70s 253ms/step - loss: 1.1136 - accuracy: 0.5677 - val_loss: 1.2361 - val_accuracy: 0.5358\n",
      "Epoch 5/25\n",
      "276/276 [==============================] - 76s 276ms/step - loss: 0.8649 - accuracy: 0.6792 - val_loss: 1.3069 - val_accuracy: 0.5340\n",
      "\n",
      "Epoch 00005: ReduceLROnPlateau reducing learning rate to 0.0005000000237487257.\n",
      "Epoch 6/25\n",
      "276/276 [==============================] - 76s 276ms/step - loss: 0.4913 - accuracy: 0.8273 - val_loss: 0.4895 - val_accuracy: 0.8064\n",
      "Epoch 7/25\n",
      "276/276 [==============================] - 70s 255ms/step - loss: 0.3713 - accuracy: 0.8702 - val_loss: 0.5226 - val_accuracy: 0.7859\n",
      "Epoch 8/25\n",
      "276/276 [==============================] - 70s 255ms/step - loss: 0.2568 - accuracy: 0.9112 - val_loss: 0.3447 - val_accuracy: 0.8715\n",
      "Epoch 9/25\n",
      "276/276 [==============================] - 71s 257ms/step - loss: 0.1899 - accuracy: 0.9345 - val_loss: 0.2469 - val_accuracy: 0.9165\n",
      "Epoch 10/25\n",
      "276/276 [==============================] - 70s 255ms/step - loss: 0.1441 - accuracy: 0.9507 - val_loss: 0.2476 - val_accuracy: 0.9174\n",
      "Epoch 11/25\n",
      "276/276 [==============================] - 71s 256ms/step - loss: 0.1140 - accuracy: 0.9610 - val_loss: 0.2458 - val_accuracy: 0.9223\n",
      "Epoch 12/25\n",
      "276/276 [==============================] - 70s 255ms/step - loss: 0.0985 - accuracy: 0.9687 - val_loss: 0.2331 - val_accuracy: 0.9259\n",
      "Epoch 13/25\n",
      "276/276 [==============================] - 70s 254ms/step - loss: 0.0766 - accuracy: 0.9746 - val_loss: 0.1211 - val_accuracy: 0.9623\n",
      "Epoch 14/25\n",
      "276/276 [==============================] - 70s 255ms/step - loss: 0.0612 - accuracy: 0.9787 - val_loss: 0.1680 - val_accuracy: 0.9470\n",
      "Epoch 15/25\n",
      "276/276 [==============================] - 70s 255ms/step - loss: 0.0543 - accuracy: 0.9815 - val_loss: 0.1145 - val_accuracy: 0.9642\n",
      "Epoch 16/25\n",
      "276/276 [==============================] - 71s 256ms/step - loss: 0.0498 - accuracy: 0.9842 - val_loss: 0.1013 - val_accuracy: 0.9695\n",
      "Epoch 17/25\n",
      "276/276 [==============================] - 70s 255ms/step - loss: 0.0498 - accuracy: 0.9836 - val_loss: 0.1418 - val_accuracy: 0.9576\n",
      "Epoch 18/25\n",
      "276/276 [==============================] - 70s 255ms/step - loss: 0.0321 - accuracy: 0.9893 - val_loss: 0.0850 - val_accuracy: 0.9731\n",
      "Epoch 19/25\n",
      "276/276 [==============================] - 71s 256ms/step - loss: 0.0349 - accuracy: 0.9886 - val_loss: 0.2200 - val_accuracy: 0.9308\n",
      "Epoch 20/25\n",
      "276/276 [==============================] - 70s 255ms/step - loss: 0.0416 - accuracy: 0.9865 - val_loss: 0.0875 - val_accuracy: 0.9762\n",
      "Epoch 21/25\n",
      "276/276 [==============================] - 70s 254ms/step - loss: 0.0354 - accuracy: 0.9886 - val_loss: 0.1319 - val_accuracy: 0.9666\n",
      "Epoch 22/25\n",
      "276/276 [==============================] - 70s 254ms/step - loss: 0.0180 - accuracy: 0.9946 - val_loss: 0.1325 - val_accuracy: 0.9543\n",
      "\n",
      "Epoch 00022: ReduceLROnPlateau reducing learning rate to 0.0002500000118743628.\n",
      "Epoch 23/25\n",
      "276/276 [==============================] - 70s 254ms/step - loss: 0.0144 - accuracy: 0.9963 - val_loss: 0.0788 - val_accuracy: 0.9834\n",
      "Epoch 24/25\n",
      "276/276 [==============================] - 72s 259ms/step - loss: 0.0041 - accuracy: 0.9991 - val_loss: 0.0666 - val_accuracy: 0.9848\n",
      "Epoch 25/25\n",
      "276/276 [==============================] - 70s 254ms/step - loss: 0.0021 - accuracy: 0.9995 - val_loss: 0.0700 - val_accuracy: 0.9841\n"
     ]
    }
   ],
   "source": [
    "history = model.fit(X_train,\n",
    "                    y_train,\n",
    "                    epochs=25,\n",
    "                    batch_size=128,\n",
    "                    validation_data=(X_test, y_test),\n",
    "                    callbacks=[learning_rate_reduction])"
   ]
  },
  {
   "cell_type": "code",
   "execution_count": 26,
   "metadata": {
    "execution": {
     "iopub.execute_input": "2021-05-20T04:40:21.456013Z",
     "iopub.status.busy": "2021-05-20T04:40:21.455628Z",
     "iopub.status.idle": "2021-05-20T04:40:31.39346Z",
     "shell.execute_reply": "2021-05-20T04:40:31.392477Z",
     "shell.execute_reply.started": "2021-05-20T04:40:21.45598Z"
    }
   },
   "outputs": [
    {
     "name": "stdout",
     "output_type": "stream",
     "text": [
      "367/367 [==============================] - 7s 19ms/step - loss: 0.0700 - accuracy: 0.9841\n"
     ]
    },
    {
     "data": {
      "text/plain": [
       "[0.06996113061904907, 0.9841486215591431]"
      ]
     },
     "execution_count": 26,
     "metadata": {},
     "output_type": "execute_result"
    }
   ],
   "source": [
    "model.evaluate(X_test, y_test)"
   ]
  },
  {
   "cell_type": "markdown",
   "metadata": {},
   "source": [
    "# Analysis after Training"
   ]
  },
  {
   "cell_type": "code",
   "execution_count": 27,
   "metadata": {
    "execution": {
     "iopub.execute_input": "2021-05-20T04:40:33.673573Z",
     "iopub.status.busy": "2021-05-20T04:40:33.6732Z",
     "iopub.status.idle": "2021-05-20T04:40:33.941503Z",
     "shell.execute_reply": "2021-05-20T04:40:33.940412Z",
     "shell.execute_reply.started": "2021-05-20T04:40:33.673541Z"
    }
   },
   "outputs": [
    {
     "data": {
      "image/png": "[encoded data removed]",
      "text/plain": [
       "<Figure size 432x288 with 1 Axes>"
      ]
     },
     "metadata": {},
     "output_type": "display_data"
    }
   ],
   "source": [
    "plt.plot(history.history[\"accuracy\"], 'ro-', label=\"Training Accuracy\")\n",
    "plt.plot(history.history[\"val_accuracy\"], 'go-', label=\"Testing Accuracy\")\n",
    "plt.legend()\n",
    "plt.show()"
   ]
  },
  {
   "cell_type": "code",
   "execution_count": 28,
   "metadata": {
    "execution": {
     "iopub.execute_input": "2021-05-20T04:40:36.247782Z",
     "iopub.status.busy": "2021-05-20T04:40:36.247402Z",
     "iopub.status.idle": "2021-05-20T04:40:36.457962Z",
     "shell.execute_reply": "2021-05-20T04:40:36.456468Z",
     "shell.execute_reply.started": "2021-05-20T04:40:36.247743Z"
    }
   },
   "outputs": [
    {
     "data": {
      "image/png": "[encoded data removed]",
      "text/plain": [
       "<Figure size 432x288 with 1 Axes>"
      ]
     },
     "metadata": {},
     "output_type": "display_data"
    }
   ],
   "source": [
    "plt.plot(history.history[\"loss\"], 'ro-', label=\"Training Loss\")\n",
    "plt.plot(history.history[\"val_loss\"], 'go-', label=\"Testing Loss\")\n",
    "plt.legend()\n",
    "plt.show()"
   ]
  },
  {
   "cell_type": "code",
   "execution_count": 29,
   "metadata": {
    "execution": {
     "iopub.execute_input": "2021-05-20T04:40:41.295539Z",
     "iopub.status.busy": "2021-05-20T04:40:41.295125Z",
     "iopub.status.idle": "2021-05-20T04:40:50.999142Z",
     "shell.execute_reply": "2021-05-20T04:40:50.998301Z",
     "shell.execute_reply.started": "2021-05-20T04:40:41.295503Z"
    }
   },
   "outputs": [],
   "source": [
    "y_pred = model.predict(X_test).round()"
   ]
  },
  {
   "cell_type": "code",
   "execution_count": 30,
   "metadata": {
    "execution": {
     "iopub.execute_input": "2021-05-20T04:40:53.099716Z",
     "iopub.status.busy": "2021-05-20T04:40:53.099362Z",
     "iopub.status.idle": "2021-05-20T04:40:53.153007Z",
     "shell.execute_reply": "2021-05-20T04:40:53.151981Z",
     "shell.execute_reply.started": "2021-05-20T04:40:53.099686Z"
    }
   },
   "outputs": [
    {
     "name": "stdout",
     "output_type": "stream",
     "text": [
      "                                                               precision    recall  f1-score   support\n",
      "\n",
      "('akiec', 'Actinic keratoses and intraepithelial carcinomae')       0.99      1.00      1.00      1667\n",
      "                             ('bcc', ' basal cell carcinoma')       0.99      1.00      1.00      1689\n",
      "                     ('bkl', 'benign keratosis-like lesions')       0.98      0.99      0.99      1651\n",
      "                                     ('df', 'dermatofibroma')       1.00      1.00      1.00      1629\n",
      "                                  ('nv', ' melanocytic nevi')       0.99      0.89      0.94      1663\n",
      "              ('vasc', ' pyogenic granulomas and hemorrhage')       1.00      1.00      1.00      1680\n",
      "                                          ('mel', 'melanoma')       0.94      1.00      0.97      1755\n",
      "\n",
      "                                                    micro avg       0.98      0.98      0.98     11734\n",
      "                                                    macro avg       0.99      0.98      0.98     11734\n",
      "                                                 weighted avg       0.98      0.98      0.98     11734\n",
      "                                                  samples avg       0.98      0.98      0.98     11734\n",
      "\n"
     ]
    },
    {
     "name": "stderr",
     "output_type": "stream",
     "text": [
      "/home/alshum/Documents/project/ml_api/venv/lib/python3.8/site-packages/sklearn/metrics/_classification.py:1248: UndefinedMetricWarning: Precision and F-score are ill-defined and being set to 0.0 in samples with no predicted labels. Use `zero_division` parameter to control this behavior.\n",
      "  _warn_prf(average, modifier, msg_start, len(result))\n"
     ]
    }
   ],
   "source": [
    "target_names = [f\"{classes[i]}\" for i in range(7)]\n",
    "print(classification_report(y_test, y_pred, target_names=target_names))"
   ]
  },
  {
   "cell_type": "code",
   "execution_count": 31,
   "metadata": {
    "execution": {
     "iopub.execute_input": "2021-05-20T04:40:58.380339Z",
     "iopub.status.busy": "2021-05-20T04:40:58.379719Z",
     "iopub.status.idle": "2021-05-20T04:40:58.937017Z",
     "shell.execute_reply": "2021-05-20T04:40:58.935943Z",
     "shell.execute_reply.started": "2021-05-20T04:40:58.380279Z"
    }
   },
   "outputs": [
    {
     "data": {
      "text/plain": [
       "<AxesSubplot:>"
      ]
     },
     "execution_count": 31,
     "metadata": {},
     "output_type": "execute_result"
    },
    {
     "data": {
      "image/png": "[encoded data removed]",
      "text/plain": [
       "<Figure size 720x720 with 2 Axes>"
      ]
     },
     "metadata": {},
     "output_type": "display_data"
    }
   ],
   "source": [
    "cm = confusion_matrix(y_test.argmax(axis=1), y_pred.argmax(axis=1))\n",
    "cm = pd.DataFrame(cm, index=[i for i in range(7)], columns=[i for i in range(7)])\n",
    "plt.figure(figsize=(10, 10))\n",
    "sns.heatmap(cm, cmap=\"Blues\", linecolor='black', linewidth=1, annot=True, fmt='')"
   ]
  },
  {
   "cell_type": "markdown",
   "metadata": {},
   "source": [
    "**Plot Test Images**"
   ]
  },
  {
   "cell_type": "code",
   "execution_count": 32,
   "metadata": {
    "execution": {
     "iopub.execute_input": "2021-05-20T05:37:28.958075Z",
     "iopub.status.busy": "2021-05-20T05:37:28.957647Z",
     "iopub.status.idle": "2021-05-20T05:37:29.788201Z",
     "shell.execute_reply": "2021-05-20T05:37:29.787012Z",
     "shell.execute_reply.started": "2021-05-20T05:37:28.958038Z"
    }
   },
   "outputs": [
    {
     "name": "stdout",
     "output_type": "stream",
     "text": [
      "('bkl', 'benign keratosis-like lesions')\n"
     ]
    }
   ],
   "source": [
    "from keras.preprocessing import image\n",
    "\n",
    "correct = np.nonzero(y_pred == y_test)[0]\n",
    "\n",
    "k = 0\n",
    "path = 'dataset/skin_cancer/ham10000_images_part_2/ISIC_0029417.jpg'\n",
    "img = image.load_img(path, target_size=(28, 28))\n",
    "wawaw = image.img_to_array(img)\n",
    "wawaw = np.expand_dims(wawaw, axis=0)\n",
    "wawaw = np.vstack([wawaw])\n",
    "result = model.predict(wawaw)\n",
    "max_prob = max(result[0])\n",
    "class_ind = list(result[0]).index(max_prob)\n",
    "print(classes[class_ind])"
   ]
  },
  {
   "cell_type": "code",
   "execution_count": 33,
   "metadata": {},
   "outputs": [
    {
     "data": {
      "image/png": "[encoded data removed]",
      "text/plain": [
       "<Figure size 432x288 with 4 Axes>"
      ]
     },
     "metadata": {},
     "output_type": "display_data"
    }
   ],
   "source": [
    "for c in correct[:4]:\n",
    "    plt.subplot(2, 5, k + 1)\n",
    "    plt.imshow(X_test[k].reshape(28, 28, 3), interpolation='none')\n",
    "    plt.title(f\"p : {y_pred[k].argmax(axis=0)},a :{y_test[k].argmax(axis=0)} \")\n",
    "    plt.tight_layout()\n",
    "    k += 1"
   ]
  },
  {
   "cell_type": "markdown",
   "metadata": {},
   "source": [
    "# Save model "
   ]
  },
  {
   "cell_type": "code",
   "execution_count": null,
   "metadata": {},
   "outputs": [],
   "source": [
    "model.save('skin_cancer_latest.h5')"
   ]
  },
  {
   "cell_type": "code",
   "execution_count": null,
   "metadata": {},
   "outputs": [],
   "source": []
  }
 ],
 "metadata": {
  "kernelspec": {
   "display_name": "Python 3",
   "language": "python",
   "name": "python3"
  },
  "language_info": {
   "codemirror_mode": {
    "name": "ipython",
    "version": 3
   },
   "file_extension": ".py",
   "mimetype": "text/x-python",
   "name": "python",
   "nbconvert_exporter": "python",
   "pygments_lexer": "ipython3",
   "version": "3.8.6"
  }
 },
 "nbformat": 4,
 "nbformat_minor": 4
}
