{
 "cells": [
  {
   "cell_type": "markdown",
   "metadata": {
    "collapsed": true
   },
   "source": [
    "# CNN Classification"
   ]
  },
  {
   "cell_type": "markdown",
   "metadata": {},
   "source": [
    "link of dataset can be found <a href=\"https://www.kaggle.com/kmader/skin-cancer-mnist-ham10000\" >here</a>"
   ]
  },
  {
   "cell_type": "markdown",
   "metadata": {},
   "source": [
    "step to integrate dataset to notebook\n",
    "1. generate kaggle.json from your profile\n",
    "2. download kaggle api command tools with `pip install kaggle`\n",
    "3. move kaggle.json to ~/user/.kaggle\n",
    "4. enter download command with `kaggle datasets download -d kmader/skin-cancer-mnist-ham10000`\n",
    "4. move the zip file into dataset directory\n",
    "5. extract the zip file "
   ]
  },
  {
   "cell_type": "code",
   "execution_count": null,
   "metadata": {
    "pycharm": {
     "name": "#%%\n"
    }
   },
   "outputs": [],
   "source": []
  }
 ],
 "metadata": {
  "kernelspec": {
   "display_name": "Python 3",
   "language": "python",
   "name": "python3"
  },
  "language_info": {
   "codemirror_mode": {
    "name": "ipython",
    "version": 3
   },
   "file_extension": ".py",
   "mimetype": "text/x-python",
   "name": "python",
   "nbconvert_exporter": "python",
   "pygments_lexer": "ipython3",
   "version": "3.8.6"
  }
 },
 "nbformat": 4,
 "nbformat_minor": 1
}
