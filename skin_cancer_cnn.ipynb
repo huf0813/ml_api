{
 "cells": [
  {
   "cell_type": "markdown",
   "metadata": {
    "collapsed": true
   },
   "source": [
    "# Skin Cancer Classification"
   ]
  },
  {
   "cell_type": "markdown",
   "metadata": {},
   "source": [
    "Link of dataset can be found <a href=\"https://www.kaggle.com/kmader/skin-cancer-mnist-ham10000\" >here</a>"
   ]
  },
  {
   "cell_type": "markdown",
   "metadata": {},
   "source": [
    "Step to integrate dataset to the notebook : \n",
    "1. generate kaggle.json from your profile\n",
    "1. download kaggle api command tools with `pip install kaggle`\n",
    "1. move kaggle.json to ~/user/.kaggle\n",
    "1. enter download command with `kaggle datasets download -d kmader/skin-cancer-mnist-ham10000`\n",
    "1. move the zip file into `dataset` directory\n",
    "1. extract the zip file\n",
    "1. install virtual env with command `pip install virtualenv`\n",
    "1. init virtual env with command `virtual venv -p python3`\n",
    "1. activate your venv with command `source ./venv/bin/activate`\n",
    "1. install all libraries with command `pip install -r requirements.txt`\n",
    "1. if you need another libraries, please don't forget to add those into requirements.txt with command `ip freeze > requirements.txt`"
   ]
  },
  {
   "cell_type": "code",
   "execution_count": 2,
   "metadata": {
    "pycharm": {
     "name": "#%%\n"
    }
   },
   "outputs": [],
   "source": [
    "import os\n",
    "import splitfolders as split_folder\n",
    "import seaborn as sns\n",
    "import pandas as pd\n",
    "import tensorflow as tf\n",
    "from tensorflow.keras.preprocessing.image import ImageDataGenerator\n",
    "import matplotlib.pyplot as plt"
   ]
  },
  {
   "cell_type": "code",
   "execution_count": 3,
   "metadata": {},
   "outputs": [
    {
     "name": "stdout",
     "output_type": "stream",
     "text": [
      "2.4.1\n"
     ]
    }
   ],
   "source": [
    "print(tf.__version__)"
   ]
  },
  {
   "cell_type": "code",
   "execution_count": 6,
   "metadata": {},
   "outputs": [],
   "source": [
    "path_skin_cancer_csv = 'dataset/skin_cancer/HAM10000_metadata.csv'\n",
    "df_skin_cancer = pd.read_csv(path_skin_cancer_csv)"
   ]
  },
  {
   "cell_type": "code",
   "execution_count": 7,
   "metadata": {},
   "outputs": [
    {
     "data": {
      "text/html": [
       "<div>\n",
       "<style scoped>\n",
       "    .dataframe tbody tr th:only-of-type {\n",
       "        vertical-align: middle;\n",
       "    }\n",
       "\n",
       "    .dataframe tbody tr th {\n",
       "        vertical-align: top;\n",
       "    }\n",
       "\n",
       "    .dataframe thead th {\n",
       "        text-align: right;\n",
       "    }\n",
       "</style>\n",
       "<table border=\"1\" class=\"dataframe\">\n",
       "  <thead>\n",
       "    <tr style=\"text-align: right;\">\n",
       "      <th></th>\n",
       "      <th>lesion_id</th>\n",
       "      <th>image_id</th>\n",
       "      <th>dx</th>\n",
       "      <th>dx_type</th>\n",
       "      <th>age</th>\n",
       "      <th>sex</th>\n",
       "      <th>localization</th>\n",
       "    </tr>\n",
       "  </thead>\n",
       "  <tbody>\n",
       "    <tr>\n",
       "      <th>0</th>\n",
       "      <td>HAM_0000118</td>\n",
       "      <td>ISIC_0027419</td>\n",
       "      <td>bkl</td>\n",
       "      <td>histo</td>\n",
       "      <td>80.0</td>\n",
       "      <td>male</td>\n",
       "      <td>scalp</td>\n",
       "    </tr>\n",
       "    <tr>\n",
       "      <th>1</th>\n",
       "      <td>HAM_0000118</td>\n",
       "      <td>ISIC_0025030</td>\n",
       "      <td>bkl</td>\n",
       "      <td>histo</td>\n",
       "      <td>80.0</td>\n",
       "      <td>male</td>\n",
       "      <td>scalp</td>\n",
       "    </tr>\n",
       "    <tr>\n",
       "      <th>2</th>\n",
       "      <td>HAM_0002730</td>\n",
       "      <td>ISIC_0026769</td>\n",
       "      <td>bkl</td>\n",
       "      <td>histo</td>\n",
       "      <td>80.0</td>\n",
       "      <td>male</td>\n",
       "      <td>scalp</td>\n",
       "    </tr>\n",
       "    <tr>\n",
       "      <th>3</th>\n",
       "      <td>HAM_0002730</td>\n",
       "      <td>ISIC_0025661</td>\n",
       "      <td>bkl</td>\n",
       "      <td>histo</td>\n",
       "      <td>80.0</td>\n",
       "      <td>male</td>\n",
       "      <td>scalp</td>\n",
       "    </tr>\n",
       "    <tr>\n",
       "      <th>4</th>\n",
       "      <td>HAM_0001466</td>\n",
       "      <td>ISIC_0031633</td>\n",
       "      <td>bkl</td>\n",
       "      <td>histo</td>\n",
       "      <td>75.0</td>\n",
       "      <td>male</td>\n",
       "      <td>ear</td>\n",
       "    </tr>\n",
       "  </tbody>\n",
       "</table>\n",
       "</div>"
      ],
      "text/plain": [
       "     lesion_id      image_id   dx dx_type   age   sex localization\n",
       "0  HAM_0000118  ISIC_0027419  bkl   histo  80.0  male        scalp\n",
       "1  HAM_0000118  ISIC_0025030  bkl   histo  80.0  male        scalp\n",
       "2  HAM_0002730  ISIC_0026769  bkl   histo  80.0  male        scalp\n",
       "3  HAM_0002730  ISIC_0025661  bkl   histo  80.0  male        scalp\n",
       "4  HAM_0001466  ISIC_0031633  bkl   histo  75.0  male          ear"
      ]
     },
     "execution_count": 7,
     "metadata": {},
     "output_type": "execute_result"
    }
   ],
   "source": [
    "df_skin_cancer.head()"
   ]
  },
  {
   "cell_type": "code",
   "execution_count": 8,
   "metadata": {},
   "outputs": [
    {
     "name": "stdout",
     "output_type": "stream",
     "text": [
      "<class 'pandas.core.frame.DataFrame'>\n",
      "RangeIndex: 10015 entries, 0 to 10014\n",
      "Data columns (total 7 columns):\n",
      " #   Column        Non-Null Count  Dtype  \n",
      "---  ------        --------------  -----  \n",
      " 0   lesion_id     10015 non-null  object \n",
      " 1   image_id      10015 non-null  object \n",
      " 2   dx            10015 non-null  object \n",
      " 3   dx_type       10015 non-null  object \n",
      " 4   age           9958 non-null   float64\n",
      " 5   sex           10015 non-null  object \n",
      " 6   localization  10015 non-null  object \n",
      "dtypes: float64(1), object(6)\n",
      "memory usage: 547.8+ KB\n"
     ]
    }
   ],
   "source": [
    "df_skin_cancer.info()"
   ]
  },
  {
   "cell_type": "code",
   "execution_count": 9,
   "metadata": {},
   "outputs": [
    {
     "name": "stdout",
     "output_type": "stream",
     "text": [
      "{0: ('akiec', 'actinic keratoses and intraepithelial carcinomae'), 1: ('bcc', 'basal cell carcinoma'), 2: ('bkl', 'benign keratosis-like lesions'), 3: ('df', 'dermatofibroma'), 4: ('nv', ' melanocytic nevi'), 5: ('vasc', 'pyogenic granulomas and hemorrhage'), 6: ('mel', 'melanoma')}\n"
     ]
    }
   ],
   "source": [
    "skin_cancer_class = {\n",
    "    0: ('akiec', 'actinic keratoses and intraepithelial carcinomae'),\n",
    "    1: ('bcc', 'basal cell carcinoma'),\n",
    "    2: ('bkl', 'benign keratosis-like lesions'),\n",
    "    3: ('df', 'dermatofibroma'),\n",
    "    4: ('nv', ' melanocytic nevi'),\n",
    "    5: ('vasc', 'pyogenic granulomas and hemorrhage'),\n",
    "    6: ('mel', 'melanoma')\n",
    "}\n",
    "print(skin_cancer_class)"
   ]
  },
  {
   "cell_type": "markdown",
   "metadata": {},
   "source": [
    "# Exploratory Data Analysis"
   ]
  },
  {
   "cell_type": "code",
   "execution_count": 38,
   "metadata": {},
   "outputs": [
    {
     "data": {
      "text/plain": [
       "Text(0.5, 1.0, 'Frequency Distribution of Classes')"
      ]
     },
     "execution_count": 38,
     "metadata": {},
     "output_type": "execute_result"
    },
    {
     "data": {
      "image/png": "[encoded data removed]",
      "text/plain": [
       "<Figure size 720x432 with 1 Axes>"
      ]
     },
     "metadata": {
      "needs_background": "light"
     },
     "output_type": "display_data"
    }
   ],
   "source": [
    "sns.countplot(x='dx', data=df_skin_cancer)\n",
    "plt.xlabel('Disease', size=12)\n",
    "plt.ylabel('Frequency', size=12)\n",
    "plt.title('Frequency Distribution of Classes', size=16)"
   ]
  },
  {
   "cell_type": "code",
   "execution_count": 58,
   "metadata": {},
   "outputs": [
    {
     "data": {
      "text/plain": [
       "Text(0.5, 1.0, 'Gender of Patient')"
      ]
     },
     "execution_count": 58,
     "metadata": {},
     "output_type": "execute_result"
    },
    {
     "data": {
      "image/png": "[encoded data removed]",
      "text/plain": [
       "<Figure size 720x720 with 1 Axes>"
      ]
     },
     "metadata": {},
     "output_type": "display_data"
    }
   ],
   "source": [
    "pie_chart_color = ['#66b3ff','#ff9999']\n",
    "bar, ax = plt.subplots(figsize=(10, 10))\n",
    "plt.pie(df_skin_cancer['sex'].value_counts(),\n",
    "        colors=pie_chart_color,\n",
    "        labels=df_skin_cancer['sex'].value_counts().index,\n",
    "        autopct=\"%.1f%%\")\n",
    "plt.title('Gender of Patient', size=16)"
   ]
  },
  {
   "cell_type": "code",
   "execution_count": 70,
   "metadata": {},
   "outputs": [
    {
     "data": {
      "text/plain": [
       "Text(0.5, 1.0, 'Histogram of Age of Patients')"
      ]
     },
     "execution_count": 70,
     "metadata": {},
     "output_type": "execute_result"
    },
    {
     "data": {
      "image/png": "[encoded data removed]",
      "text/plain": [
       "<Figure size 792x792 with 1 Axes>"
      ]
     },
     "metadata": {},
     "output_type": "display_data"
    }
   ],
   "source": [
    "bar, ax = plt.subplots(figsize=(11, 11))\n",
    "sns.histplot(df_skin_cancer['age'],  kde=True)\n",
    "plt.title('Histogram of Age of Patients', size=15)"
   ]
  },
  {
   "cell_type": "markdown",
   "metadata": {},
   "source": [
    "# Split dataset\n",
    "### Split dataset with 40% ratio for validation set"
   ]
  },
  {
   "cell_type": "code",
   "execution_count": 36,
   "metadata": {},
   "outputs": [
    {
     "name": "stderr",
     "output_type": "stream",
     "text": [
      "\n",
      "\n",
      "Copying files: 0 files [00:00, ? files/s]\u001B[A\u001B[A\n",
      "\n",
      "Copying files: 25 files [00:00, 247.87 files/s]\u001B[A\u001B[A\n",
      "\n",
      "Copying files: 86 files [00:00, 459.47 files/s]\u001B[A\u001B[A\n",
      "\n",
      "Copying files: 156 files [00:00, 564.51 files/s]\u001B[A\u001B[A\n",
      "\n",
      "Copying files: 213 files [00:00, 548.06 files/s]\u001B[A\u001B[A\n",
      "\n",
      "Copying files: 268 files [00:00, 543.78 files/s]\u001B[A\u001B[A\n",
      "\n",
      "Copying files: 323 files [00:00, 541.84 files/s]\u001B[A\u001B[A\n",
      "\n",
      "Copying files: 378 files [00:00, 521.84 files/s]\u001B[A\u001B[A\n",
      "\n",
      "Copying files: 431 files [00:00, 517.95 files/s]\u001B[A\u001B[A\n",
      "\n",
      "Copying files: 494 files [00:00, 550.16 files/s]\u001B[A\u001B[A\n",
      "\n",
      "Copying files: 551 files [00:01, 554.32 files/s]\u001B[A\u001B[A\n",
      "\n",
      "Copying files: 623 files [00:01, 602.68 files/s]\u001B[A\u001B[A\n",
      "\n",
      "Copying files: 684 files [00:01, 602.37 files/s]\u001B[A\u001B[A\n",
      "\n",
      "Copying files: 746 files [00:01, 606.35 files/s]\u001B[A\u001B[A\n",
      "\n",
      "Copying files: 810 files [00:01, 616.35 files/s]\u001B[A\u001B[A\n",
      "\n",
      "Copying files: 872 files [00:01, 613.77 files/s]\u001B[A\u001B[A\n",
      "\n",
      "Copying files: 934 files [00:01, 608.14 files/s]\u001B[A\u001B[A\n",
      "\n",
      "Copying files: 995 files [00:01, 580.70 files/s]\u001B[A\u001B[A\n",
      "\n",
      "Copying files: 1058 files [00:01, 594.44 files/s]\u001B[A\u001B[A\n",
      "\n",
      "Copying files: 1118 files [00:01, 585.13 files/s]\u001B[A\u001B[A\n",
      "\n",
      "Copying files: 1183 files [00:02, 603.14 files/s]\u001B[A\u001B[A\n",
      "\n",
      "Copying files: 1244 files [00:02, 594.38 files/s]\u001B[A\u001B[A\n",
      "\n",
      "Copying files: 1304 files [00:02, 594.32 files/s]\u001B[A\u001B[A\n",
      "\n",
      "Copying files: 1369 files [00:02, 610.62 files/s]\u001B[A\u001B[A\n",
      "\n",
      "Copying files: 1431 files [00:02, 492.43 files/s]\u001B[A\u001B[A\n",
      "\n",
      "Copying files: 1484 files [00:02, 498.27 files/s]\u001B[A\u001B[A\n",
      "\n",
      "Copying files: 1542 files [00:02, 517.52 files/s]\u001B[A\u001B[A\n",
      "\n",
      "Copying files: 1604 files [00:02, 545.12 files/s]\u001B[A\u001B[A\n",
      "\n",
      "Copying files: 1661 files [00:03, 443.27 files/s]\u001B[A\u001B[A\n",
      "\n",
      "Copying files: 1721 files [00:03, 480.46 files/s]\u001B[A\u001B[A\n",
      "\n",
      "Copying files: 1789 files [00:03, 531.76 files/s]\u001B[A\u001B[A\n",
      "\n",
      "Copying files: 1846 files [00:03, 220.79 files/s]\u001B[A\u001B[A\n",
      "\n",
      "Copying files: 1909 files [00:03, 275.84 files/s]\u001B[A\u001B[A\n",
      "\n",
      "Copying files: 1974 files [00:04, 335.66 files/s]\u001B[A\u001B[A\n",
      "\n",
      "Copying files: 2039 files [00:04, 393.64 files/s]\u001B[A\u001B[A\n",
      "\n",
      "Copying files: 2117 files [00:04, 473.91 files/s]\u001B[A\u001B[A\n",
      "\n",
      "Copying files: 2181 files [00:04, 510.43 files/s]\u001B[A\u001B[A\n",
      "\n",
      "Copying files: 2255 files [00:04, 566.09 files/s]\u001B[A\u001B[A\n",
      "\n",
      "Copying files: 2321 files [00:04, 580.81 files/s]\u001B[A\u001B[A\n",
      "\n",
      "Copying files: 2386 files [00:04, 596.06 files/s]\u001B[A\u001B[A\n",
      "\n",
      "Copying files: 2454 files [00:04, 618.97 files/s]\u001B[A\u001B[A\n",
      "\n",
      "Copying files: 2520 files [00:04, 613.45 files/s]\u001B[A\u001B[A\n",
      "\n",
      "Copying files: 2589 files [00:05, 631.49 files/s]\u001B[A\u001B[A\n",
      "\n",
      "Copying files: 2654 files [00:05, 594.11 files/s]\u001B[A\u001B[A\n",
      "\n",
      "Copying files: 2720 files [00:05, 610.52 files/s]\u001B[A\u001B[A\n",
      "\n",
      "Copying files: 2783 files [00:05, 601.73 files/s]\u001B[A\u001B[A\n",
      "\n",
      "Copying files: 2849 files [00:05, 615.82 files/s]\u001B[A\u001B[A\n",
      "\n",
      "Copying files: 2912 files [00:05, 475.81 files/s]\u001B[A\u001B[A\n",
      "\n",
      "Copying files: 2967 files [00:05, 491.74 files/s]\u001B[A\u001B[A\n",
      "\n",
      "Copying files: 3021 files [00:05, 502.97 files/s]\u001B[A\u001B[A\n",
      "\n",
      "Copying files: 3075 files [00:06, 432.75 files/s]\u001B[A\u001B[A\n",
      "\n",
      "Copying files: 3132 files [00:06, 464.50 files/s]\u001B[A\u001B[A\n",
      "\n",
      "Copying files: 3188 files [00:06, 486.56 files/s]\u001B[A\u001B[A\n",
      "\n",
      "Copying files: 3240 files [00:06, 448.56 files/s]\u001B[A\u001B[A\n",
      "\n",
      "Copying files: 3288 files [00:06, 438.37 files/s]\u001B[A\u001B[A\n",
      "\n",
      "Copying files: 3358 files [00:06, 506.26 files/s]\u001B[A\u001B[A\n",
      "\n",
      "Copying files: 3413 files [00:06, 508.95 files/s]\u001B[A\u001B[A\n",
      "\n",
      "Copying files: 3466 files [00:06, 413.37 files/s]\u001B[A\u001B[A\n",
      "\n",
      "Copying files: 3535 files [00:06, 479.70 files/s]\u001B[A\u001B[A\n",
      "\n",
      "Copying files: 3599 files [00:07, 519.42 files/s]\u001B[A\u001B[A\n",
      "\n",
      "Copying files: 3655 files [00:07, 431.55 files/s]\u001B[A\u001B[A\n",
      "\n",
      "Copying files: 3736 files [00:07, 520.44 files/s]\u001B[A\u001B[A\n",
      "\n",
      "Copying files: 3794 files [00:07, 515.80 files/s]\u001B[A\u001B[A\n",
      "\n",
      "Copying files: 3850 files [00:07, 458.10 files/s]\u001B[A\u001B[A\n",
      "\n",
      "Copying files: 3922 files [00:07, 519.82 files/s]\u001B[A\u001B[A\n",
      "\n",
      "Copying files: 3979 files [00:07, 531.31 files/s]\u001B[A\u001B[A\n",
      "\n",
      "Copying files: 4036 files [00:08, 429.22 files/s]\u001B[A\u001B[A\n",
      "\n",
      "Copying files: 4084 files [00:08, 431.64 files/s]\u001B[A\u001B[A\n",
      "\n",
      "Copying files: 4139 files [00:08, 459.08 files/s]\u001B[A\u001B[A\n",
      "\n",
      "Copying files: 4188 files [00:08, 400.06 files/s]\u001B[A\u001B[A\n",
      "\n",
      "Copying files: 4232 files [00:08, 393.38 files/s]\u001B[A\u001B[A\n",
      "\n",
      "Copying files: 4288 files [00:08, 433.54 files/s]\u001B[A\u001B[A\n",
      "\n",
      "Copying files: 4334 files [00:08, 372.50 files/s]\u001B[A\u001B[A\n",
      "\n",
      "Copying files: 4375 files [00:08, 372.99 files/s]\u001B[A\u001B[A\n",
      "\n",
      "Copying files: 4423 files [00:09, 399.62 files/s]\u001B[A\u001B[A\n",
      "\n",
      "Copying files: 4465 files [00:09, 400.09 files/s]\u001B[A\u001B[A\n",
      "\n",
      "Copying files: 4507 files [00:09, 356.35 files/s]\u001B[A\u001B[A\n",
      "\n",
      "Copying files: 4545 files [00:09, 349.72 files/s]\u001B[A\u001B[A\n",
      "\n",
      "Copying files: 4589 files [00:09, 372.18 files/s]\u001B[A\u001B[A\n",
      "\n",
      "Copying files: 4634 files [00:09, 391.11 files/s]\u001B[A\u001B[A\n",
      "\n",
      "Copying files: 4684 files [00:09, 418.97 files/s]\u001B[A\u001B[A\n",
      "\n",
      "Copying files: 4727 files [00:09, 334.25 files/s]\u001B[A\u001B[A\n",
      "\n",
      "Copying files: 4783 files [00:09, 388.22 files/s]\u001B[A\u001B[A\n",
      "\n",
      "Copying files: 4845 files [00:10, 446.34 files/s]\u001B[A\u001B[A\n",
      "\n",
      "Copying files: 4907 files [00:10, 490.71 files/s]\u001B[A\u001B[A\n",
      "\n",
      "Copying files: 4961 files [00:10, 498.12 files/s]\u001B[A\u001B[A\n",
      "\n",
      "Copying files: 0 files [00:33, ? files/s]files/s]\u001B[A\u001B[A\n",
      "\n",
      "\n",
      "Copying files: 5060 files [00:10, 331.77 files/s]\u001B[A\u001B[A\n",
      "\n",
      "Copying files: 5116 files [00:10, 379.91 files/s]\u001B[A\u001B[A\n",
      "\n",
      "Copying files: 5160 files [00:10, 338.56 files/s]\u001B[A\u001B[A\n",
      "\n",
      "Copying files: 5229 files [00:11, 415.65 files/s]\u001B[A\u001B[A\n",
      "\n",
      "Copying files: 5284 files [00:11, 446.26 files/s]\u001B[A\u001B[A\n",
      "\n",
      "Copying files: 5334 files [00:11, 377.24 files/s]\u001B[A\u001B[A\n",
      "\n",
      "Copying files: 5396 files [00:11, 432.60 files/s]\u001B[A\u001B[A\n",
      "\n",
      "Copying files: 5467 files [00:11, 500.40 files/s]\u001B[A\u001B[A\n",
      "\n",
      "Copying files: 5522 files [00:11, 428.05 files/s]\u001B[A\u001B[A\n",
      "\n",
      "Copying files: 5572 files [00:11, 444.45 files/s]\u001B[A\u001B[A\n",
      "\n",
      "Copying files: 5640 files [00:11, 502.68 files/s]\u001B[A\u001B[A\n",
      "\n",
      "Copying files: 5695 files [00:12, 458.09 files/s]\u001B[A\u001B[A\n",
      "\n",
      "Copying files: 5757 files [00:12, 498.26 files/s]\u001B[A\u001B[A\n",
      "\n",
      "Copying files: 5810 files [00:12, 414.55 files/s]\u001B[A\u001B[A\n",
      "\n",
      "Copying files: 5868 files [00:12, 452.99 files/s]\u001B[A\u001B[A\n",
      "\n",
      "Copying files: 5931 files [00:12, 496.23 files/s]\u001B[A\u001B[A\n",
      "\n",
      "Copying files: 5985 files [00:12, 423.95 files/s]\u001B[A\u001B[A\n",
      "\n",
      "Copying files: 6038 files [00:12, 448.28 files/s]\u001B[A\u001B[A\n",
      "\n",
      "Copying files: 6102 files [00:12, 496.77 files/s]\u001B[A\u001B[A\n",
      "\n",
      "Copying files: 6155 files [00:13, 425.49 files/s]\u001B[A\u001B[A\n",
      "\n",
      "Copying files: 6211 files [00:13, 457.65 files/s]\u001B[A\u001B[A\n",
      "\n",
      "Copying files: 6264 files [00:13, 474.92 files/s]\u001B[A\u001B[A\n",
      "\n",
      "Copying files: 6329 files [00:13, 520.09 files/s]\u001B[A\u001B[A\n",
      "\n",
      "Copying files: 6384 files [00:13, 233.90 files/s]\u001B[A\u001B[A\n",
      "\n",
      "Copying files: 6444 files [00:14, 287.74 files/s]\u001B[A\u001B[A\n",
      "\n",
      "Copying files: 6498 files [00:14, 331.25 files/s]\u001B[A\u001B[A\n",
      "\n",
      "Copying files: 6554 files [00:14, 376.68 files/s]\u001B[A\u001B[A\n",
      "\n",
      "Copying files: 6614 files [00:14, 424.91 files/s]\u001B[A\u001B[A\n",
      "\n",
      "Copying files: 6676 files [00:14, 470.66 files/s]\u001B[A\u001B[A\n",
      "\n",
      "Copying files: 6740 files [00:14, 513.56 files/s]\u001B[A\u001B[A\n",
      "\n",
      "Copying files: 6803 files [00:14, 544.48 files/s]\u001B[A\u001B[A\n",
      "\n",
      "Copying files: 6863 files [00:14, 545.48 files/s]\u001B[A\u001B[A\n",
      "\n",
      "Copying files: 6931 files [00:14, 582.64 files/s]\u001B[A\u001B[A\n",
      "\n",
      "Copying files: 6993 files [00:14, 589.78 files/s]\u001B[A\u001B[A\n",
      "\n",
      "Copying files: 7054 files [00:15, 579.24 files/s]\u001B[A\u001B[A\n",
      "\n",
      "Copying files: 7117 files [00:15, 590.62 files/s]\u001B[A\u001B[A\n",
      "\n",
      "Copying files: 7180 files [00:15, 600.31 files/s]\u001B[A\u001B[A\n",
      "\n",
      "Copying files: 7244 files [00:15, 610.31 files/s]\u001B[A\u001B[A\n",
      "\n",
      "Copying files: 7306 files [00:15, 492.26 files/s]\u001B[A\u001B[A\n",
      "\n",
      "Copying files: 7360 files [00:15, 489.42 files/s]\u001B[A\u001B[A\n",
      "\n",
      "Copying files: 7423 files [00:15, 523.59 files/s]\u001B[A\u001B[A\n",
      "\n",
      "Copying files: 7478 files [00:15, 418.77 files/s]\u001B[A\u001B[A\n",
      "\n",
      "Copying files: 7538 files [00:16, 459.22 files/s]\u001B[A\u001B[A\n",
      "\n",
      "Copying files: 7599 files [00:16, 494.79 files/s]\u001B[A\u001B[A\n",
      "\n",
      "Copying files: 7653 files [00:16, 414.54 files/s]\u001B[A\u001B[A\n",
      "\n",
      "Copying files: 7709 files [00:16, 447.48 files/s]\u001B[A\u001B[A\n",
      "\n",
      "Copying files: 7769 files [00:16, 484.47 files/s]\u001B[A\u001B[A\n",
      "\n",
      "Copying files: 7832 files [00:16, 521.63 files/s]\u001B[A\u001B[A\n",
      "\n",
      "Copying files: 7888 files [00:16, 427.45 files/s]\u001B[A\u001B[A\n",
      "\n",
      "Copying files: 7952 files [00:16, 477.23 files/s]\u001B[A\u001B[A\n",
      "\n",
      "Copying files: 8017 files [00:17, 520.42 files/s]\u001B[A\u001B[A\n",
      "\n",
      "Copying files: 8074 files [00:17, 412.54 files/s]\u001B[A\u001B[A\n",
      "\n",
      "Copying files: 8139 files [00:17, 465.11 files/s]\u001B[A\u001B[A\n",
      "\n",
      "Copying files: 8209 files [00:17, 511.26 files/s]\u001B[A\u001B[A\n",
      "\n",
      "Copying files: 8265 files [00:17, 445.29 files/s]\u001B[A\u001B[A\n",
      "\n",
      "Copying files: 8334 files [00:17, 502.43 files/s]\u001B[A\u001B[A\n",
      "\n",
      "Copying files: 8398 files [00:17, 531.65 files/s]\u001B[A\u001B[A\n",
      "\n",
      "Copying files: 8455 files [00:18, 458.44 files/s]\u001B[A\u001B[A\n",
      "\n",
      "Copying files: 8514 files [00:18, 489.67 files/s]\u001B[A\u001B[A\n",
      "\n",
      "Copying files: 8571 files [00:18, 509.47 files/s]\u001B[A\u001B[A\n",
      "\n",
      "Copying files: 8625 files [00:18, 403.61 files/s]\u001B[A\u001B[A\n",
      "\n",
      "Copying files: 8677 files [00:18, 429.63 files/s]\u001B[A\u001B[A\n",
      "\n",
      "Copying files: 8741 files [00:18, 480.63 files/s]\u001B[A\u001B[A\n",
      "\n",
      "Copying files: 8794 files [00:18, 397.08 files/s]\u001B[A\u001B[A\n",
      "\n",
      "Copying files: 8847 files [00:18, 426.78 files/s]\u001B[A\u001B[A\n",
      "\n",
      "Copying files: 8896 files [00:19, 442.04 files/s]\u001B[A\u001B[A\n",
      "\n",
      "Copying files: 8948 files [00:19, 460.13 files/s]\u001B[A\u001B[A\n",
      "\n",
      "Copying files: 8997 files [00:19, 437.46 files/s]\u001B[A\u001B[A\n",
      "\n",
      "Copying files: 9060 files [00:19, 487.73 files/s]\u001B[A\u001B[A\n",
      "\n",
      "Copying files: 9115 files [00:19, 502.94 files/s]\u001B[A\u001B[A\n",
      "\n",
      "Copying files: 9167 files [00:19, 407.76 files/s]\u001B[A\u001B[A\n",
      "\n",
      "Copying files: 9216 files [00:19, 426.86 files/s]\u001B[A\u001B[A\n",
      "\n",
      "Copying files: 9273 files [00:19, 463.42 files/s]\u001B[A\u001B[A\n",
      "\n",
      "Copying files: 9323 files [00:19, 470.92 files/s]\u001B[A\u001B[A\n",
      "\n",
      "Copying files: 9373 files [00:20, 384.51 files/s]\u001B[A\u001B[A\n",
      "\n",
      "Copying files: 9430 files [00:20, 427.76 files/s]\u001B[A\u001B[A\n",
      "\n",
      "Copying files: 9477 files [00:20, 437.85 files/s]\u001B[A\u001B[A\n",
      "\n",
      "Copying files: 9524 files [00:20, 437.98 files/s]\u001B[A\u001B[A\n",
      "\n",
      "Copying files: 9570 files [00:20, 391.94 files/s]\u001B[A\u001B[A\n",
      "\n",
      "Copying files: 9640 files [00:20, 470.15 files/s]\u001B[A\u001B[A\n",
      "\n",
      "Copying files: 9694 files [00:20, 486.54 files/s]\u001B[A\u001B[A\n",
      "\n",
      "Copying files: 9745 files [00:20, 403.31 files/s]\u001B[A\u001B[A\n",
      "\n",
      "Copying files: 9821 files [00:21, 488.90 files/s]\u001B[A\u001B[A\n",
      "\n",
      "Copying files: 9880 files [00:21, 506.63 files/s]\u001B[A\u001B[A\n",
      "\n",
      "Copying files: 9935 files [00:21, 418.82 files/s]\u001B[A\u001B[A\n",
      "\n",
      "Copying files: 9989 files [00:21, 445.88 files/s]\u001B[A\u001B[A\n",
      "\n",
      "Copying files: 10038 files [00:21, 418.76 files/s]\u001B[A\u001B[A\n",
      "\n",
      "Copying files: 10083 files [00:21, 368.16 files/s]\u001B[A\u001B[A\n",
      "\n",
      "Copying files: 10140 files [00:21, 414.24 files/s]\u001B[A\u001B[A\n",
      "\n",
      "Copying files: 10202 files [00:21, 464.91 files/s]\u001B[A\u001B[A\n",
      "\n",
      "Copying files: 10252 files [00:22, 440.84 files/s]\u001B[A\u001B[A\n",
      "\n",
      "Copying files: 10299 files [00:22, 419.24 files/s]\u001B[A\u001B[A\n",
      "\n",
      "Copying files: 10356 files [00:22, 457.30 files/s]\u001B[A\u001B[A\n",
      "\n",
      "Copying files: 10415 files [00:22, 492.35 files/s]\u001B[A\u001B[A\n",
      "\n",
      "Copying files: 10466 files [00:22, 345.57 files/s]\u001B[A\u001B[A\n",
      "\n",
      "Copying files: 10526 files [00:22, 399.75 files/s]\u001B[A\u001B[A\n",
      "\n",
      "Copying files: 10601 files [00:22, 481.05 files/s]\u001B[A\u001B[A\n",
      "\n",
      "Copying files: 10668 files [00:23, 528.37 files/s]\u001B[A\u001B[A\n",
      "\n",
      "Copying files: 10745 files [00:23, 590.39 files/s]\u001B[A\u001B[A\n",
      "\n",
      "Copying files: 10809 files [00:23, 484.35 files/s]\u001B[A\u001B[A\n",
      "\n",
      "Copying files: 10880 files [00:23, 538.02 files/s]\u001B[A\u001B[A\n",
      "\n",
      "Copying files: 10957 files [00:23, 596.24 files/s]\u001B[A\u001B[A\n",
      "\n",
      "Copying files: 11022 files [00:23, 491.29 files/s]\u001B[A\u001B[A\n",
      "\n",
      "Copying files: 11083 files [00:23, 517.59 files/s]\u001B[A\u001B[A\n",
      "\n",
      "Copying files: 11144 files [00:23, 539.84 files/s]\u001B[A\u001B[A\n",
      "\n",
      "Copying files: 11203 files [00:24, 307.78 files/s]\u001B[A\u001B[A\n",
      "\n",
      "Copying files: 11257 files [00:24, 346.96 files/s]\u001B[A\u001B[A\n",
      "\n",
      "Copying files: 11311 files [00:24, 384.64 files/s]\u001B[A\u001B[A\n",
      "\n",
      "Copying files: 11377 files [00:24, 444.87 files/s]\u001B[A\u001B[A\n",
      "\n",
      "Copying files: 11433 files [00:24, 471.75 files/s]\u001B[A\u001B[A\n",
      "\n",
      "Copying files: 11490 files [00:24, 496.08 files/s]\u001B[A\u001B[A\n",
      "\n",
      "Copying files: 11546 files [00:24, 502.12 files/s]\u001B[A\u001B[A\n",
      "\n",
      "Copying files: 11611 files [00:25, 541.39 files/s]\u001B[A\u001B[A\n",
      "\n",
      "Copying files: 11686 files [00:25, 597.21 files/s]\u001B[A\u001B[A\n",
      "\n",
      "Copying files: 11749 files [00:25, 542.96 files/s]\u001B[A\u001B[A\n",
      "\n",
      "Copying files: 11807 files [00:25, 481.86 files/s]\u001B[A\u001B[A\n",
      "\n",
      "Copying files: 11871 files [00:25, 519.98 files/s]\u001B[A\u001B[A\n",
      "\n",
      "Copying files: 11927 files [00:25, 529.23 files/s]\u001B[A\u001B[A\n",
      "\n",
      "Copying files: 11983 files [00:25, 448.02 files/s]\u001B[A\u001B[A\n",
      "\n",
      "Copying files: 12057 files [00:25, 518.37 files/s]\u001B[A\u001B[A\n",
      "\n",
      "Copying files: 12119 files [00:25, 526.67 files/s]\u001B[A\u001B[A\n",
      "\n",
      "Copying files: 12232 files [00:26, 466.08 files/s]\u001B[A\u001B[A\n"
     ]
    }
   ],
   "source": [
    "split_folder.ratio('dataset/archive', 'dataset/splited_data', seed=1, ratio=(.6, .4))"
   ]
  },
  {
   "cell_type": "code",
   "execution_count": 42,
   "metadata": {},
   "outputs": [],
   "source": [
    "splited_dataset_dir = 'dataset/splited_data'\n",
    "train_dir = os.path.join(splited_dataset_dir, 'train')\n",
    "val_dir = os.path.join(splited_dataset_dir, 'val')"
   ]
  },
  {
   "cell_type": "code",
   "execution_count": 43,
   "metadata": {},
   "outputs": [
    {
     "data": {
      "text/plain": [
       "['HAM10000_images_part_2', 'HAM10000_images_part_1', 'ham10000_images_part_1']"
      ]
     },
     "execution_count": 43,
     "metadata": {},
     "output_type": "execute_result"
    }
   ],
   "source": [
    "os.listdir(train_dir)"
   ]
  },
  {
   "cell_type": "code",
   "execution_count": 44,
   "metadata": {},
   "outputs": [
    {
     "data": {
      "text/plain": [
       "['HAM10000_images_part_2', 'HAM10000_images_part_1', 'ham10000_images_part_1']"
      ]
     },
     "execution_count": 44,
     "metadata": {},
     "output_type": "execute_result"
    }
   ],
   "source": [
    "os.listdir(val_dir)"
   ]
  },
  {
   "cell_type": "markdown",
   "metadata": {},
   "source": []
  }
 ],
 "metadata": {
  "kernelspec": {
   "display_name": "Python 3",
   "language": "python",
   "name": "python3"
  },
  "language_info": {
   "codemirror_mode": {
    "name": "ipython",
    "version": 3
   },
   "file_extension": ".py",
   "mimetype": "text/x-python",
   "name": "python",
   "nbconvert_exporter": "python",
   "pygments_lexer": "ipython3",
   "version": "3.8.6"
  }
 },
 "nbformat": 4,
 "nbformat_minor": 1
}